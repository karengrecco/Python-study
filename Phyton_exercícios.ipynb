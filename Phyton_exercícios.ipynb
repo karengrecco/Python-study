{
  "nbformat": 4,
  "nbformat_minor": 0,
  "metadata": {
    "colab": {
      "provenance": []
    },
    "kernelspec": {
      "name": "python3",
      "display_name": "Python 3"
    },
    "language_info": {
      "name": "python"
    }
  },
  "cells": [
    {
      "cell_type": "code",
      "execution_count": null,
      "metadata": {
        "id": "7Z9OFxcRjNzz"
      },
      "outputs": [],
      "source": []
    },
    {
      "cell_type": "markdown",
      "source": [],
      "metadata": {
        "id": "fUBJbEKklNcM"
      }
    },
    {
      "cell_type": "markdown",
      "source": [
        "Faça um programa que receba a idade de dez pessoas e que calcule e mostre a quantidade de pessoas com idade maior ou igual a 18 anos"
      ],
      "metadata": {
        "id": "ud4fa5t1nW-4"
      }
    },
    {
      "cell_type": "code",
      "source": [
        "idade1= int(input(\"Digite sua idade: \"))\n",
        "idade2= int(input(\"Digite sua idade: \"))\n",
        "idade3= int(input(\"Digite sua idade: \"))\n",
        "idade4= int(input(\"Digite sua idade: \"))\n",
        "idade5= int(input(\"Digite sua idade: \"))\n",
        "idade6= int(input(\"Digite sua idade: \"))\n",
        "idade7= int(input(\"Digite sua idade: \"))\n",
        "idade8= int(input(\"Digite sua idade: \"))\n",
        "idade9= int(input(\"Digite sua idade: \"))\n",
        "idade10= int(input(\"Digite sua idade: \"))\n",
        "\n",
        "\n",
        "\n"
      ],
      "metadata": {
        "id": "7o0vvORPnmBZ"
      },
      "execution_count": null,
      "outputs": []
    },
    {
      "cell_type": "markdown",
      "source": [],
      "metadata": {
        "id": "T5uQT_A7qhjM"
      }
    },
    {
      "cell_type": "markdown",
      "source": [],
      "metadata": {
        "id": "YE0sCC1ii-IN"
      }
    },
    {
      "cell_type": "markdown",
      "source": [
        "Desenvolver um programa em Python que leia o nome de um aluno e duas notas das  provas semestrais.  No final mostrar o nome do aluno e a sua média (aritmética)."
      ],
      "metadata": {
        "id": "d6O4qZ1almVQ"
      }
    },
    {
      "cell_type": "code",
      "source": [
        "nome = input(\"Digite seu nome:\\n\")\n",
        "print(\"O nome é: \",nome)\n",
        "nota1= float(input(\"Digite a nota da NP1: \"))\n",
        "nota2= float(input(\"Digite a nota da NP2: \"))\n",
        "media = (nota1 + nota2)/2\n",
        "print(media)"
      ],
      "metadata": {
        "colab": {
          "base_uri": "https://localhost:8080/"
        },
        "id": "lgzY_xqTlyOz",
        "outputId": "0419f45f-235f-4ba6-82e0-abb3252b6e58"
      },
      "execution_count": null,
      "outputs": [
        {
          "output_type": "stream",
          "name": "stdout",
          "text": [
            "Digite seu nome:\n",
            "bia\n",
            "O nome é:  bia\n",
            "Digite a nota da NP1: 5\n",
            "Digite a nota da NP2: 8\n",
            "6.5\n"
          ]
        }
      ]
    },
    {
      "cell_type": "markdown",
      "source": [
        "Desenvolver um programa em Python que receba um valor em real e a cotação do dolar no momento.\n",
        "No final mostrar o valor em real e o valor convertido em dolares.\n"
      ],
      "metadata": {
        "id": "2QijyPCtnJ9U"
      }
    },
    {
      "cell_type": "code",
      "source": [
        "dolar = float(input(\"Insira o valor em dólar: \"))\n",
        "print(\"O valor em dólar é: \",dolar)\n",
        "cotacao = float(input(\"1 dólar equivale à: \"))\n",
        "conversao = (dolar * cotacao)\n",
        "print(conversao)\n"
      ],
      "metadata": {
        "colab": {
          "base_uri": "https://localhost:8080/"
        },
        "id": "vYhQbM7onW7R",
        "outputId": "8bc173ff-e894-48b5-facc-2cb44b57f6d3"
      },
      "execution_count": null,
      "outputs": [
        {
          "output_type": "stream",
          "name": "stdout",
          "text": [
            "Insira o valor em dólar: 50\n",
            "O valor em dólar é:  50.0\n",
            "1 dólar equivale à: 4.99\n",
            "249.5\n"
          ]
        }
      ]
    },
    {
      "cell_type": "markdown",
      "source": [
        "Desenvolver um programa em Python que peça para o usuário digitar dois valores que são os lados de um retângulo.\n",
        "Calcule a área, em seguida mostre os valores e a área calculada."
      ],
      "metadata": {
        "id": "-V-5qlLBy1wE"
      }
    },
    {
      "cell_type": "code",
      "source": [
        "num1 = float(input(\"Digite o lado 1 do retângulo: \"))\n",
        "num2 = float(input(\"Digite o lado 2 do retângulo: \"))\n",
        "area = (num1 * num2)\n",
        "print(\"Valor do lado 1: \",num1)\n",
        "print(\"Valor do lado 2: \",num2)\n",
        "print(\"Área total: ,\",area)\n"
      ],
      "metadata": {
        "colab": {
          "base_uri": "https://localhost:8080/"
        },
        "id": "XrJj1Hkuy9Yh",
        "outputId": "c3c4be87-4381-480d-c9fe-2518395f9a21"
      },
      "execution_count": null,
      "outputs": [
        {
          "output_type": "stream",
          "name": "stdout",
          "text": [
            "Digite o lado 1 do retângulo: 5\n",
            "Digite o lado 2 do retângulo: 52\n",
            "Valor do lado 1:  5.0\n",
            "Valor do lado 2:  52.0\n",
            "Área total:  260.0\n"
          ]
        }
      ]
    },
    {
      "cell_type": "markdown",
      "source": [
        "Desenvolver um programa em Python que peça para o usuário digitar 2 números inteiros e um número real (float).\n",
        "Calcule e mostre:\n",
        "O produto do primeiro com o segundo;\n",
        "A soma do primeiro com o segundo;\n",
        "A metade do primeiro somdo à metade do segundo;\n",
        "O primeiro elevado ao quadrado mais o segundo elevado ao triplo.\n"
      ],
      "metadata": {
        "id": "yAUFuSQB2z3e"
      }
    },
    {
      "cell_type": "code",
      "source": [
        "num1 = int(input(\"Digite um número inteiro: \"))\n",
        "num2 = int(input(\"Digite um número inteiro: \"))\n",
        "num3 = float(input(\"Digite um número real: \"))\n",
        "print(\"O produto do primeiro com o segundo é: \", num1 * num2)\n",
        "print(\"A soma do primeiro com o segundo é: \", num1 + num2)\n",
        "print(\"A metade do primeiro somado com a metade do segundo é: \", (num1)/2 + (num2)/2)\n",
        "print(\"O primeiro elevado ao quadrado mais o segundo elevado ao triplo é: \", num1**2 + num2**3)"
      ],
      "metadata": {
        "colab": {
          "base_uri": "https://localhost:8080/"
        },
        "id": "gMyKgzaY27m9",
        "outputId": "5ce7d6d1-8138-42ea-d4a8-91dc36d440fe"
      },
      "execution_count": null,
      "outputs": [
        {
          "output_type": "stream",
          "name": "stdout",
          "text": [
            "Digite um número inteiro: 2\n",
            "Digite um número inteiro: 3\n",
            "Digite um número real: 4\n",
            "O produto do primeiro com o segundo é:  6\n",
            "A soma do primeiro com o segundo é:  5\n",
            "A metade do primeiro somado com a metade do segundo é:  2.5\n",
            "O primeiro elevado ao quadrado mais o segundo elevado ao triplo é:  31\n"
          ]
        }
      ]
    },
    {
      "cell_type": "markdown",
      "source": [
        "Desenvolver um programa em Python que peça para o usuário digitar a altura de uma pessoa e calcule seu peso ideal, usando a seguinte fórmula: (72.7 * altura).\n",
        "No final mostre o peso ideal."
      ],
      "metadata": {
        "id": "5TD-Txu25gvj"
      }
    },
    {
      "cell_type": "code",
      "source": [
        "altura = float(input(\"Digite sua altura: \"))\n",
        "pesoideal = (72.7 / altura)\n",
        "print(\"Seu peso ideal é: \",pesoideal)"
      ],
      "metadata": {
        "colab": {
          "base_uri": "https://localhost:8080/"
        },
        "id": "Om253ZPP5hp7",
        "outputId": "b4bfe4f5-1fdc-439a-bec7-d34bee870575"
      },
      "execution_count": null,
      "outputs": [
        {
          "output_type": "stream",
          "name": "stdout",
          "text": [
            "Digite sua altura: 1.63\n",
            "Seu peso ideal é:  44.60122699386503\n"
          ]
        }
      ]
    },
    {
      "cell_type": "markdown",
      "source": [
        "01. Leia um numero real e imprima o resultado do quadrado desse numero."
      ],
      "metadata": {
        "id": "t4Dgp1xO8nOT"
      }
    },
    {
      "cell_type": "code",
      "source": [
        "numreal = float(input(\"Digite um número real: \"))\n",
        "quadrado = numreal**2\n",
        "print(\"Esse é o quadrado do número digitado: \",quadrado)"
      ],
      "metadata": {
        "colab": {
          "base_uri": "https://localhost:8080/"
        },
        "id": "MIVEwXOT8rFg",
        "outputId": "4b40ab85-5e69-4dc8-b716-62d193d4e5f4"
      },
      "execution_count": null,
      "outputs": [
        {
          "output_type": "stream",
          "name": "stdout",
          "text": [
            "Digite um número real: 2.8\n",
            "Esse é o quadrado do número digitado:  7.839999999999999\n"
          ]
        }
      ]
    },
    {
      "cell_type": "markdown",
      "source": [
        "02. Leia um numero real e imprima a quinta parte deste numero."
      ],
      "metadata": {
        "id": "rv4eHMWP9KW_"
      }
    },
    {
      "cell_type": "code",
      "source": [
        "numreal2 = float(input(\"Digite um número real: \"))\n",
        "quinta = numreal2/5\n",
        "print(\"A quinta parte deste número é: \",quinta)"
      ],
      "metadata": {
        "colab": {
          "base_uri": "https://localhost:8080/"
        },
        "id": "dKhHCAZp9ON2",
        "outputId": "5dc6a577-ea25-41a0-c738-60dd6130e848"
      },
      "execution_count": null,
      "outputs": [
        {
          "output_type": "stream",
          "name": "stdout",
          "text": [
            "Digite um número real: 58\n",
            "A quinta parte deste número é:  11.6\n"
          ]
        }
      ]
    },
    {
      "cell_type": "markdown",
      "source": [
        "03. Leia uma temperatura em graus Celsius e apresente-a convertida em graus Fahrenheit. A formula de conversao e: F = C(9.0/5.0)+32.0, sendo F  a temperatura em Fahrenheit e C a temperatura em Celsius\n"
      ],
      "metadata": {
        "id": "vKlT4EEN9tUk"
      }
    },
    {
      "cell_type": "code",
      "source": [
        "celsius = float(input(\"Digite a temperatura em Celsius: \"))\n",
        "print(\"A temperatura em Celsius é: \",celsius)\n",
        "fahrenheit = celsius*(9.0/5.0)+32.0\n",
        "print(\"Em Fahrenheit a temperatura é: \",fahrenheit)"
      ],
      "metadata": {
        "id": "z4_BgulH9x3K",
        "colab": {
          "base_uri": "https://localhost:8080/"
        },
        "outputId": "0dbe7779-8ffd-461f-cbce-634abdf95db6"
      },
      "execution_count": null,
      "outputs": [
        {
          "output_type": "stream",
          "name": "stdout",
          "text": [
            "Digite a temperatura em Celsius: 32\n",
            "A temperatura em Celsius é:  32.0\n",
            "Em Fahrenheit a temperatura é:  89.6\n"
          ]
        }
      ]
    },
    {
      "cell_type": "markdown",
      "source": [
        "Desenvolver um programa em Python que peça para o usuário digitar uma letra depois verifique se a letra digitada é \"F\" ou \"M\". Conforme a letra escrever: F - Feminino, M – Masculino ou Sexo Inválido."
      ],
      "metadata": {
        "id": "-PT7K-9Ql_ir"
      }
    },
    {
      "cell_type": "code",
      "source": [
        "sexo = str(input(\"Digite seu sexo em apenas uma letra: \"))\n",
        "if sexo == \"F\":\n",
        "  print(\"Seu sexo é Feminino :)\")\n",
        "elif sexo == \"M\":\n",
        "  print(\"Seu sexo é Masculino :(\")\n",
        "else:\n",
        "  print(\"Sexo inválido\")"
      ],
      "metadata": {
        "colab": {
          "base_uri": "https://localhost:8080/"
        },
        "id": "BAIrROXKmM96",
        "outputId": "c38d1473-3362-4c4c-85f9-51e32395a0c8"
      },
      "execution_count": null,
      "outputs": [
        {
          "output_type": "stream",
          "name": "stdout",
          "text": [
            "Digite seu sexo em apenas uma letra: M\n",
            "Seu sexo é Masculino :(\n"
          ]
        }
      ]
    },
    {
      "cell_type": "markdown",
      "source": [
        "Desenvolver um programa em Python que leia três números e mostre o maior deles."
      ],
      "metadata": {
        "id": "OjM37vMCpi0a"
      }
    },
    {
      "cell_type": "code",
      "source": [
        "num = int(input(\"Digite um número de 0 à 10: \"))\n",
        "num1 = int(input(\"Digite um número de 0 à 10: \"))\n",
        "num2 = int(input(\"Digite um número de 0 à 10: \"))\n",
        "if num > num1 and num2:\n",
        "  print(\"Maior de todos é o \",num)\n",
        "elif num1 > num and num2:\n",
        "  print(\"Maior de todos é o \",num1)\n",
        "else:\n",
        "  print(\"Maior de todos é o \",num2)\n"
      ],
      "metadata": {
        "colab": {
          "base_uri": "https://localhost:8080/"
        },
        "id": "4Ol4k7qSpkNS",
        "outputId": "795a4f9e-e367-47a0-88a3-fc0a738b7637"
      },
      "execution_count": null,
      "outputs": [
        {
          "output_type": "stream",
          "name": "stdout",
          "text": [
            "Digite um número de 0 à 10: 5\n",
            "Digite um número de 0 à 10: 8\n",
            "Digite um número de 0 à 10: 2\n",
            "Maior de todos é o  8\n"
          ]
        }
      ]
    },
    {
      "cell_type": "markdown",
      "source": [
        "Desenvolver um programa em Python para a Loja QueroQuero que receba o valor da compra e a quantidade de prestações que o cliente deseja pagar.\n",
        "Calcular o valor de cada prestação e no final mostrar: se o valor da prestação for menor do que R$ 50.00 a mensagem “Não pode ser financiado”, caso contrario mostrar o valor da prestação."
      ],
      "metadata": {
        "id": "SvoAdeC41Gv7"
      }
    },
    {
      "cell_type": "code",
      "source": [
        "valor = float(input(\"Digite o valor da compra \"))\n",
        "valor1 = float(input(\"Quantas prestações você irá pagar? \"))\n",
        "valor3 = (valor/valor1)\n",
        "if valor3 <50:\n",
        "  print(\"Não pode ser financiado \")\n",
        "else:\n",
        "  print(\"Sua prestação deu o total de \", valor3)"
      ],
      "metadata": {
        "colab": {
          "base_uri": "https://localhost:8080/"
        },
        "id": "vdXwWtEN1R9x",
        "outputId": "8fcaa4ed-0a35-4387-a50f-a84576a60a4c"
      },
      "execution_count": null,
      "outputs": [
        {
          "output_type": "stream",
          "name": "stdout",
          "text": [
            "Digite o valor da compra 100\n",
            "Quantas prestações você irá pagar? 3\n",
            "Não pode ser financiado \n"
          ]
        }
      ]
    },
    {
      "cell_type": "markdown",
      "source": [
        "Desenvolver um programa em Python que informe três preços de um produto e mostre qual produto deve ser comprado, sabendo que a decisão é sempre pelo mais barato.\n"
      ],
      "metadata": {
        "id": "nGIZV6db30OO"
      }
    },
    {
      "cell_type": "code",
      "source": [
        "\n",
        "valor = int(input(\"Digite o valor do produto da loja0 \"))\n",
        "valor1 = int(input(\"Digite o valor do produto da loja1 \"))\n",
        "valor2 = int(input(\"Digite o valor do produto da loja2 \"))\n",
        "\n",
        "if valor < valor1 and valor2:\n",
        " print(\"compre esse da loja0\",valor)\n",
        "elif valor2 < valor and valor1:\n",
        " print(\"compre esse da loja2\",valor2)\n",
        "else:\n",
        " print(\"Compre esse da loja1\",valor1)\n",
        "\n",
        "\n"
      ],
      "metadata": {
        "colab": {
          "base_uri": "https://localhost:8080/"
        },
        "id": "DgZtPlm131uf",
        "outputId": "b70a15fd-c97e-43b4-e7d5-9b97fb1b75f0"
      },
      "execution_count": null,
      "outputs": [
        {
          "output_type": "stream",
          "name": "stdout",
          "text": [
            "Digite o valor do produto da loja0 80\n",
            "Digite o valor do produto da loja1 3\n",
            "Digite o valor do produto da loja2 90\n",
            "Compre esse da loja1 3\n"
          ]
        }
      ]
    },
    {
      "cell_type": "markdown",
      "source": [
        "Desenvolver um programa em Python que peça para ser digitado o nome do aluno e o turno qu ele estuda, sendo: M-matutino ou V-Vespertino ou N- Noturno.\n",
        "No final mostrar mensagem: nome do aluno e \"Bom Dia!\", \"Boa Tarde!\" ou \"Boa Noite!\" ou \"Valor Inválido!\", conforme o caso.\n"
      ],
      "metadata": {
        "id": "kTBR0lDH8oa-"
      }
    },
    {
      "cell_type": "code",
      "source": [
        " nome = str(input(\"Digite seu nome\"))\n",
        " periodo = str(input(\"Digite o período que estuda em uma sigla\"))\n",
        "\n",
        " if periodo==\"V\":\n",
        "   print(\"Periodo vespertino\")\n",
        " elif periodo==\"M\":\n",
        "  print(\"periodo matutino\")\n",
        " else:\n",
        "  print(\"periodo noturno\")\n"
      ],
      "metadata": {
        "id": "xrwLaYd58p97"
      },
      "execution_count": null,
      "outputs": []
    },
    {
      "cell_type": "markdown",
      "source": [
        "Desenvolver um programa em Python que leia e valide as seguintes informações, mostrando mensagens de erro:\n",
        "Nome: diferente de “ “;\n",
        "Idade: entre 14 e 80;\n",
        "Salário: maior que zero;\n",
        "Sexo: ‘F' ou ‘M';"
      ],
      "metadata": {
        "id": "adNO1tE3jAG2"
      }
    },
    {
      "cell_type": "code",
      "source": [
        "\n",
        "nome=str (input(\"Digite seu nome\"))\n",
        "while nome != \"Alex\":\n",
        "      print(\"O nome não é esse \")\n",
        "      input(nome)\n",
        "idade=int (input(\"Digite sua idade\"))\n",
        "while idade<=14 or idade>= 50:\n",
        "      print(\"error\")\n",
        "      input(\"Digite sua idade novamente\")\n",
        "sexo=str (input(\"Digite seu sexo em um algorismo\"))\n",
        "while sexo != \"f\" or sexo != \"m\":\n",
        "      print(\"error\")\n",
        "      input(\"Digite seu sexo novamente \")\n",
        "salario=float (input(\"Digite seu salário\"))\n",
        "while salario<0 :\n",
        "      print(\"error\")\n",
        "      input(salario)\n",
        "\n",
        "\n",
        "\n",
        "\n",
        "\n",
        "\n",
        "\n",
        "\n",
        "\n",
        "\n",
        "\n",
        "\n",
        "\n"
      ],
      "metadata": {
        "colab": {
          "base_uri": "https://localhost:8080/",
          "height": 407
        },
        "id": "G52yJu6CjEVJ",
        "outputId": "ca4d21ed-8ad4-4b49-ba17-eec8bc6f1731"
      },
      "execution_count": null,
      "outputs": [
        {
          "metadata": {
            "tags": null
          },
          "name": "stdout",
          "output_type": "stream",
          "text": [
            "error\n"
          ]
        },
        {
          "output_type": "error",
          "ename": "KeyboardInterrupt",
          "evalue": "ignored",
          "traceback": [
            "\u001b[0;31m---------------------------------------------------------------------------\u001b[0m",
            "\u001b[0;31mKeyboardInterrupt\u001b[0m                         Traceback (most recent call last)",
            "\u001b[0;32m<ipython-input-25-dec6a2b4be69>\u001b[0m in \u001b[0;36m<cell line: 10>\u001b[0;34m()\u001b[0m\n\u001b[1;32m     10\u001b[0m \u001b[0;32mwhile\u001b[0m \u001b[0msexo\u001b[0m \u001b[0;34m!=\u001b[0m \u001b[0;34m\"f\"\u001b[0m \u001b[0;32mor\u001b[0m \u001b[0msexo\u001b[0m \u001b[0;34m!=\u001b[0m \u001b[0;34m\"m\"\u001b[0m\u001b[0;34m:\u001b[0m\u001b[0;34m\u001b[0m\u001b[0;34m\u001b[0m\u001b[0m\n\u001b[1;32m     11\u001b[0m       \u001b[0mprint\u001b[0m\u001b[0;34m(\u001b[0m\u001b[0;34m\"error\"\u001b[0m\u001b[0;34m)\u001b[0m\u001b[0;34m\u001b[0m\u001b[0;34m\u001b[0m\u001b[0m\n\u001b[0;32m---> 12\u001b[0;31m       \u001b[0minput\u001b[0m\u001b[0;34m(\u001b[0m\u001b[0;34m\"Digite seu sexo novamente \"\u001b[0m\u001b[0;34m)\u001b[0m\u001b[0;34m\u001b[0m\u001b[0;34m\u001b[0m\u001b[0m\n\u001b[0m\u001b[1;32m     13\u001b[0m \u001b[0msalario\u001b[0m\u001b[0;34m=\u001b[0m\u001b[0mfloat\u001b[0m \u001b[0;34m(\u001b[0m\u001b[0minput\u001b[0m\u001b[0;34m(\u001b[0m\u001b[0;34m\"Digite seu salário\"\u001b[0m\u001b[0;34m)\u001b[0m\u001b[0;34m)\u001b[0m\u001b[0;34m\u001b[0m\u001b[0;34m\u001b[0m\u001b[0m\n\u001b[1;32m     14\u001b[0m \u001b[0;32mwhile\u001b[0m \u001b[0msalario\u001b[0m\u001b[0;34m<\u001b[0m\u001b[0;36m0\u001b[0m \u001b[0;34m:\u001b[0m\u001b[0;34m\u001b[0m\u001b[0;34m\u001b[0m\u001b[0m\n",
            "\u001b[0;32m/usr/local/lib/python3.10/dist-packages/ipykernel/kernelbase.py\u001b[0m in \u001b[0;36mraw_input\u001b[0;34m(self, prompt)\u001b[0m\n\u001b[1;32m    849\u001b[0m                 \u001b[0;34m\"raw_input was called, but this frontend does not support input requests.\"\u001b[0m\u001b[0;34m\u001b[0m\u001b[0;34m\u001b[0m\u001b[0m\n\u001b[1;32m    850\u001b[0m             )\n\u001b[0;32m--> 851\u001b[0;31m         return self._input_request(str(prompt),\n\u001b[0m\u001b[1;32m    852\u001b[0m             \u001b[0mself\u001b[0m\u001b[0;34m.\u001b[0m\u001b[0m_parent_ident\u001b[0m\u001b[0;34m,\u001b[0m\u001b[0;34m\u001b[0m\u001b[0;34m\u001b[0m\u001b[0m\n\u001b[1;32m    853\u001b[0m             \u001b[0mself\u001b[0m\u001b[0;34m.\u001b[0m\u001b[0m_parent_header\u001b[0m\u001b[0;34m,\u001b[0m\u001b[0;34m\u001b[0m\u001b[0;34m\u001b[0m\u001b[0m\n",
            "\u001b[0;32m/usr/local/lib/python3.10/dist-packages/ipykernel/kernelbase.py\u001b[0m in \u001b[0;36m_input_request\u001b[0;34m(self, prompt, ident, parent, password)\u001b[0m\n\u001b[1;32m    893\u001b[0m             \u001b[0;32mexcept\u001b[0m \u001b[0mKeyboardInterrupt\u001b[0m\u001b[0;34m:\u001b[0m\u001b[0;34m\u001b[0m\u001b[0;34m\u001b[0m\u001b[0m\n\u001b[1;32m    894\u001b[0m                 \u001b[0;31m# re-raise KeyboardInterrupt, to truncate traceback\u001b[0m\u001b[0;34m\u001b[0m\u001b[0;34m\u001b[0m\u001b[0m\n\u001b[0;32m--> 895\u001b[0;31m                 \u001b[0;32mraise\u001b[0m \u001b[0mKeyboardInterrupt\u001b[0m\u001b[0;34m(\u001b[0m\u001b[0;34m\"Interrupted by user\"\u001b[0m\u001b[0;34m)\u001b[0m \u001b[0;32mfrom\u001b[0m \u001b[0;32mNone\u001b[0m\u001b[0;34m\u001b[0m\u001b[0;34m\u001b[0m\u001b[0m\n\u001b[0m\u001b[1;32m    896\u001b[0m             \u001b[0;32mexcept\u001b[0m \u001b[0mException\u001b[0m \u001b[0;32mas\u001b[0m \u001b[0me\u001b[0m\u001b[0;34m:\u001b[0m\u001b[0;34m\u001b[0m\u001b[0;34m\u001b[0m\u001b[0m\n\u001b[1;32m    897\u001b[0m                 \u001b[0mself\u001b[0m\u001b[0;34m.\u001b[0m\u001b[0mlog\u001b[0m\u001b[0;34m.\u001b[0m\u001b[0mwarning\u001b[0m\u001b[0;34m(\u001b[0m\u001b[0;34m\"Invalid Message:\"\u001b[0m\u001b[0;34m,\u001b[0m \u001b[0mexc_info\u001b[0m\u001b[0;34m=\u001b[0m\u001b[0;32mTrue\u001b[0m\u001b[0;34m)\u001b[0m\u001b[0;34m\u001b[0m\u001b[0;34m\u001b[0m\u001b[0m\n",
            "\u001b[0;31mKeyboardInterrupt\u001b[0m: Interrupted by user"
          ]
        }
      ]
    },
    {
      "cell_type": "markdown",
      "source": [
        "Desenvolver um programa em Python que peça para o usuário digitar quantos valores ele quer avaliar.\n",
        "Depois entre com esta quantidade de valores mostrando no final o maior valor digitado.\n"
      ],
      "metadata": {
        "id": "KQEBhmc30gzw"
      }
    },
    {
      "cell_type": "code",
      "source": [
        "\n",
        "lets=int (input(\"Digite sua nota para a lets \"))\n",
        "nath=int (input(\"Digite sua nota para a nath \"))\n",
        "bibi=int  (input(\"Digite sua nota para a bibi \"))\n",
        "\n",
        "if lets > nath and lets > bibi:\n",
        "  print(\"lets é mais legal que as meninas\")\n",
        "\n",
        "if nath > lets and nath > bibi:\n",
        "  print(\"nath é mais legal que as meninas\")\n",
        "\n",
        "else:\n",
        "  print(\"bibi é mais legal que as meninas\")\n",
        "\n",
        "\n",
        "\n",
        "\n",
        "\n",
        "\n"
      ],
      "metadata": {
        "id": "ZCehVmG50iUd",
        "colab": {
          "base_uri": "https://localhost:8080/"
        },
        "outputId": "53e95026-547b-4638-f0dd-918770f2ab3a"
      },
      "execution_count": null,
      "outputs": [
        {
          "output_type": "stream",
          "name": "stdout",
          "text": [
            "Digite sua nota para a lets 3\n",
            "Digite sua nota para a nath 8\n",
            "Digite sua nota para a bibi 7\n",
            "nath é mais legal que as meninas\n"
          ]
        }
      ]
    },
    {
      "cell_type": "code",
      "source": [],
      "metadata": {
        "id": "bVVxsCYL5l18"
      },
      "execution_count": null,
      "outputs": []
    },
    {
      "cell_type": "markdown",
      "source": [
        "Crie um algoritmo que, dado um número informado pelo usuário, imprima a tabuada dele de 1 a 10. Use o formato de apresentação (considerando que o usuário informou o número 5):"
      ],
      "metadata": {
        "id": "jEv1A1pI6LDh"
      }
    },
    {
      "cell_type": "code",
      "source": [
        "num= 1\n",
        "while num <= 10:\n",
        "  print(\"5 X \", num, \"=\", 5*num)\n",
        "  num=num + 1\n"
      ],
      "metadata": {
        "colab": {
          "base_uri": "https://localhost:8080/"
        },
        "id": "zM2Ae3iC6Moc",
        "outputId": "9bcc81bb-63c2-4d26-ee3b-7fa9e0bc66a2"
      },
      "execution_count": null,
      "outputs": [
        {
          "output_type": "stream",
          "name": "stdout",
          "text": [
            "5 X  1 = 5\n",
            "5 X  2 = 10\n",
            "5 X  3 = 15\n",
            "5 X  4 = 20\n",
            "5 X  5 = 25\n",
            "5 X  6 = 30\n",
            "5 X  7 = 35\n",
            "5 X  8 = 40\n",
            "5 X  9 = 45\n",
            "5 X  10 = 50\n"
          ]
        }
      ]
    },
    {
      "cell_type": "markdown",
      "source": [],
      "metadata": {
        "id": "7lSzgVFW80Ii"
      }
    },
    {
      "cell_type": "markdown",
      "source": [
        "02. Modifique o algoritmo anterior, de maneira que o usuário também informe o início e o fim da tabuada. Por exemplo: usuário solicitando a tabuada do número 6, com início em 5 e fim em 8.\n",
        "6 x 5 = 30\n",
        "6 x 6 = 36\n",
        "6 x 7 = 42\n",
        "6 x 8 = 48"
      ],
      "metadata": {
        "id": "-BJl-1Gp9TES"
      }
    },
    {
      "cell_type": "code",
      "source": [
        "yes"
      ],
      "metadata": {
        "id": "18wp3PWq-g18"
      },
      "execution_count": null,
      "outputs": []
    },
    {
      "cell_type": "code",
      "source": [
        "num = int(input(\"Digite o inicio da tabuada: \"))\n",
        "num2 = int(input(\"Digite o fim da tabuada: \"))\n",
        "while num <= num2:\n",
        "  print(\"6 X \", num, \"=\", 6*num)\n",
        "  num=num + 1"
      ],
      "metadata": {
        "id": "2H-y6KMawYm_"
      },
      "execution_count": null,
      "outputs": []
    },
    {
      "cell_type": "code",
      "source": [
        "num = int(input(\"Digite o inicio da tabuada: \"))\n",
        "num2 = int(input(\"Digite o fim da tabuada: \"))\n",
        "while num2 <= num:\n",
        "  print(\"6 X \", num, \"=\", 6*num)\n",
        "  num= num - 1"
      ],
      "metadata": {
        "id": "nGDoBDJswkXb"
      },
      "execution_count": null,
      "outputs": []
    },
    {
      "cell_type": "code",
      "source": [
        "cont= 1\n",
        "num= int (input(\"digite um numero: \"))\n",
        "soma= 0\n",
        "while cont<= num:\n",
        "  if cont % 2 != 0:\n",
        "    print(cont)\n",
        "    soma= (soma+cont)\n",
        "  cont = cont+1\n",
        "print(soma)"
      ],
      "metadata": {
        "id": "iqMmtTDRBclP"
      },
      "execution_count": null,
      "outputs": []
    }
  ]
}